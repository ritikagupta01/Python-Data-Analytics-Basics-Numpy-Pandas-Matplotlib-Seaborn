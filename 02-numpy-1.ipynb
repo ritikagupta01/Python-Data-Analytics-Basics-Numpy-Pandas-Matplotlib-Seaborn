{
 "cells": [
  {
   "cell_type": "markdown",
   "id": "fbe50e87",
   "metadata": {},
   "source": [
    "## **3 ways to generate numpy arrays:**\n",
    "\n",
    "1. Transforming standard lists to numpy arrays\n",
    "2. Built in functions\n",
    "3. Generating random data"
   ]
  },
  {
   "cell_type": "code",
   "execution_count": 4,
   "id": "be39c648",
   "metadata": {},
   "outputs": [],
   "source": [
    "import numpy as np"
   ]
  },
  {
   "cell_type": "markdown",
   "id": "b21c2913",
   "metadata": {},
   "source": [
    "### **1. Transforming standard lists to numpy array**"
   ]
  },
  {
   "cell_type": "code",
   "execution_count": 17,
   "id": "d81c9c10",
   "metadata": {},
   "outputs": [
    {
     "data": {
      "text/plain": [
       "list"
      ]
     },
     "execution_count": 17,
     "metadata": {},
     "output_type": "execute_result"
    }
   ],
   "source": [
    "mylist = [1,2,3]   #standard list\n",
    "type(mylist)"
   ]
  },
  {
   "cell_type": "code",
   "execution_count": 18,
   "id": "4d2276e3",
   "metadata": {},
   "outputs": [
    {
     "data": {
      "text/plain": [
       "[1, 2, 3]"
      ]
     },
     "execution_count": 18,
     "metadata": {},
     "output_type": "execute_result"
    }
   ],
   "source": [
    "mylist"
   ]
  },
  {
   "cell_type": "code",
   "execution_count": 19,
   "id": "6092b67f",
   "metadata": {},
   "outputs": [
    {
     "data": {
      "text/plain": [
       "numpy.ndarray"
      ]
     },
     "execution_count": 19,
     "metadata": {},
     "output_type": "execute_result"
    }
   ],
   "source": [
    "myarr = np.array(mylist)      #converted to a numpy array\n",
    "type(myarr)"
   ]
  },
  {
   "cell_type": "code",
   "execution_count": 21,
   "id": "10ce04ea",
   "metadata": {},
   "outputs": [
    {
     "data": {
      "text/plain": [
       "array([1, 2, 3])"
      ]
     },
     "execution_count": 21,
     "metadata": {},
     "output_type": "execute_result"
    }
   ],
   "source": [
    "myarr"
   ]
  },
  {
   "cell_type": "code",
   "execution_count": 22,
   "id": "ee0d07a3",
   "metadata": {},
   "outputs": [],
   "source": [
    "#2D example\n",
    "matrix = [[1,2,3],[4,5,6],[7,8,9]]"
   ]
  },
  {
   "cell_type": "code",
   "execution_count": 23,
   "id": "7b5ee67b",
   "metadata": {},
   "outputs": [
    {
     "data": {
      "text/plain": [
       "[[1, 2, 3], [4, 5, 6], [7, 8, 9]]"
      ]
     },
     "execution_count": 23,
     "metadata": {},
     "output_type": "execute_result"
    }
   ],
   "source": [
    "matrix"
   ]
  },
  {
   "cell_type": "code",
   "execution_count": 24,
   "id": "a2e67f0d",
   "metadata": {},
   "outputs": [
    {
     "data": {
      "text/plain": [
       "array([[1, 2, 3],\n",
       "       [4, 5, 6],\n",
       "       [7, 8, 9]])"
      ]
     },
     "execution_count": 24,
     "metadata": {},
     "output_type": "execute_result"
    }
   ],
   "source": [
    "np.array(matrix)     #transformed"
   ]
  },
  {
   "cell_type": "markdown",
   "id": "69928c9a",
   "metadata": {},
   "source": [
    "### **2. Built in functions**   "
   ]
  },
  {
   "cell_type": "code",
   "execution_count": 27,
   "id": "8303a02d",
   "metadata": {},
   "outputs": [
    {
     "data": {
      "text/plain": [
       "array([0, 1, 2, 3, 4, 5, 6, 7, 8, 9])"
      ]
     },
     "execution_count": 27,
     "metadata": {},
     "output_type": "execute_result"
    }
   ],
   "source": [
    "#arange() in numpy is analogous to range() \n",
    "np.arange(0,10)\n",
    "#0 included and 10 excluded"
   ]
  },
  {
   "cell_type": "code",
   "execution_count": 29,
   "id": "28ef4ef5",
   "metadata": {},
   "outputs": [
    {
     "data": {
      "text/plain": [
       "array([  0,  20,  40,  60,  80, 100])"
      ]
     },
     "execution_count": 29,
     "metadata": {},
     "output_type": "execute_result"
    }
   ],
   "source": [
    "np.arange(0,101,20)"
   ]
  },
  {
   "cell_type": "code",
   "execution_count": 31,
   "id": "52192e6e",
   "metadata": {},
   "outputs": [
    {
     "data": {
      "text/plain": [
       "array([0., 0., 0.])"
      ]
     },
     "execution_count": 31,
     "metadata": {},
     "output_type": "execute_result"
    }
   ],
   "source": [
    "np.zeros(3)"
   ]
  },
  {
   "cell_type": "code",
   "execution_count": 32,
   "id": "f6d67917",
   "metadata": {},
   "outputs": [
    {
     "data": {
      "text/plain": [
       "array([[0., 0., 0.],\n",
       "       [0., 0., 0.]])"
      ]
     },
     "execution_count": 32,
     "metadata": {},
     "output_type": "execute_result"
    }
   ],
   "source": [
    "#use tuple as parameter to generate matrix\n",
    "np.zeros((2,3))"
   ]
  },
  {
   "cell_type": "code",
   "execution_count": 33,
   "id": "86d0ed72",
   "metadata": {},
   "outputs": [
    {
     "data": {
      "text/plain": [
       "array([1., 1., 1., 1.])"
      ]
     },
     "execution_count": 33,
     "metadata": {},
     "output_type": "execute_result"
    }
   ],
   "source": [
    "np.ones(4)"
   ]
  },
  {
   "cell_type": "code",
   "execution_count": 35,
   "id": "404aa3fa",
   "metadata": {},
   "outputs": [
    {
     "data": {
      "text/plain": [
       "array([[1., 1., 1., 1., 1.],\n",
       "       [1., 1., 1., 1., 1.],\n",
       "       [1., 1., 1., 1., 1.],\n",
       "       [1., 1., 1., 1., 1.]])"
      ]
     },
     "execution_count": 35,
     "metadata": {},
     "output_type": "execute_result"
    }
   ],
   "source": [
    "np.ones((4,5))"
   ]
  },
  {
   "cell_type": "code",
   "execution_count": 36,
   "id": "bae0c34d",
   "metadata": {},
   "outputs": [
    {
     "data": {
      "text/plain": [
       "array([[1., 0., 0., 0.],\n",
       "       [0., 1., 0., 0.],\n",
       "       [0., 0., 1., 0.],\n",
       "       [0., 0., 0., 1.]])"
      ]
     },
     "execution_count": 36,
     "metadata": {},
     "output_type": "execute_result"
    }
   ],
   "source": [
    "np.eye(4)    #identity matrix"
   ]
  },
  {
   "cell_type": "code",
   "execution_count": 37,
   "id": "f8260d59",
   "metadata": {},
   "outputs": [
    {
     "data": {
      "text/plain": [
       "array([ 0.,  5., 10.])"
      ]
     },
     "execution_count": 37,
     "metadata": {},
     "output_type": "execute_result"
    }
   ],
   "source": [
    "#linspace() in numpy returns evenly spaced numbers over a specified interval\n",
    "np.linspace(0,10,3)\n",
    "#0 included, 10 included and 3 nos are returned"
   ]
  },
  {
   "cell_type": "code",
   "execution_count": 40,
   "id": "169d201b",
   "metadata": {},
   "outputs": [
    {
     "data": {
      "text/plain": [
       "array([0.        , 3.33333333, 6.66666667])"
      ]
     },
     "execution_count": 40,
     "metadata": {},
     "output_type": "execute_result"
    }
   ],
   "source": [
    "np.linspace(0,10,3,endpoint=False)\n",
    "#0 included, 10 excluded"
   ]
  },
  {
   "cell_type": "markdown",
   "id": "41d05ecc",
   "metadata": {},
   "source": [
    "### **3. Generating random data**"
   ]
  },
  {
   "cell_type": "code",
   "execution_count": 41,
   "id": "54a0b444",
   "metadata": {},
   "outputs": [
    {
     "data": {
      "text/plain": [
       "array([0.8418405 , 0.39692212, 0.68880492, 0.62077635, 0.63910713])"
      ]
     },
     "execution_count": 41,
     "metadata": {},
     "output_type": "execute_result"
    }
   ],
   "source": [
    "#numpy contains its own full random library\n",
    "np.random.rand(5)\n",
    "\n",
    "#rand() creates an array with random samples from uniform dist\n",
    "#i.e., rand(n) returns n uniformly distributed numbers \n",
    "#(i.e., between 0 and 1, 1 excluded)"
   ]
  },
  {
   "cell_type": "code",
   "execution_count": 49,
   "id": "4b9c09cb",
   "metadata": {},
   "outputs": [
    {
     "data": {
      "text/plain": [
       "array([[0.68028996, 0.9182009 , 0.21488335],\n",
       "       [0.55355919, 0.57574922, 0.41967697]])"
      ]
     },
     "execution_count": 49,
     "metadata": {},
     "output_type": "execute_result"
    }
   ],
   "source": [
    "np.random.rand(2,3)         #2x3 matrix"
   ]
  },
  {
   "cell_type": "code",
   "execution_count": 51,
   "id": "1d629b83",
   "metadata": {},
   "outputs": [
    {
     "data": {
      "text/plain": [
       "array([[[0.74073915, 0.21405177],\n",
       "        [0.05480937, 0.93064824],\n",
       "        [0.54191496, 0.88720311],\n",
       "        [0.66365509, 0.08890056]],\n",
       "\n",
       "       [[0.99616266, 0.69207895],\n",
       "        [0.23232602, 0.67970025],\n",
       "        [0.95308197, 0.48144039],\n",
       "        [0.91732406, 0.77343273]],\n",
       "\n",
       "       [[0.41814191, 0.04069823],\n",
       "        [0.26823681, 0.77802018],\n",
       "        [0.57809973, 0.77871768],\n",
       "        [0.50848004, 0.94609721]]])"
      ]
     },
     "execution_count": 51,
     "metadata": {},
     "output_type": "execute_result"
    }
   ],
   "source": [
    "np.random.rand(3,4,2)     #3 sets of 4x2 matrices"
   ]
  },
  {
   "cell_type": "code",
   "execution_count": 52,
   "id": "0c4efcaf",
   "metadata": {},
   "outputs": [
    {
     "data": {
      "text/plain": [
       "array([ 0.60317472, -1.70119703, -0.3401252 ,  0.80639687,  0.82854781])"
      ]
     },
     "execution_count": 52,
     "metadata": {},
     "output_type": "execute_result"
    }
   ],
   "source": [
    "#random number from a standard normal distribution\n",
    "#i.e., normal dist s.t. mean=0, var=1\n",
    "np.random.randn(5)"
   ]
  },
  {
   "cell_type": "code",
   "execution_count": 55,
   "id": "c5687051",
   "metadata": {},
   "outputs": [
    {
     "data": {
      "text/plain": [
       "array([[ 0.45572738, -0.92261621,  0.69972518],\n",
       "       [ 1.12492077, -1.63085334, -0.24201204],\n",
       "       [ 0.05721266,  0.0742509 , -1.34334717],\n",
       "       [-0.3206691 , -1.34958157,  1.06871593]])"
      ]
     },
     "execution_count": 55,
     "metadata": {},
     "output_type": "execute_result"
    }
   ],
   "source": [
    "np.random.randn(4,3)"
   ]
  },
  {
   "cell_type": "code",
   "execution_count": 57,
   "id": "6a561be1",
   "metadata": {},
   "outputs": [
    {
     "data": {
      "text/plain": [
       "array([12, 13,  1, 15,  9])"
      ]
     },
     "execution_count": 57,
     "metadata": {},
     "output_type": "execute_result"
    }
   ],
   "source": [
    "#random integers\n",
    "np.random.randint(0,20,5)\n",
    "#5 random integers in interval [0,20)"
   ]
  },
  {
   "cell_type": "code",
   "execution_count": 58,
   "id": "6407fc06",
   "metadata": {},
   "outputs": [
    {
     "data": {
      "text/plain": [
       "array([[ 7,  2],\n",
       "       [ 6,  6],\n",
       "       [10, 15]])"
      ]
     },
     "execution_count": 58,
     "metadata": {},
     "output_type": "execute_result"
    }
   ],
   "source": [
    "np.random.randint(0,20,(3,2))"
   ]
  },
  {
   "cell_type": "code",
   "execution_count": 62,
   "id": "a4ca08bf",
   "metadata": {},
   "outputs": [
    {
     "data": {
      "text/plain": [
       "array([0.37454012, 0.95071431, 0.73199394])"
      ]
     },
     "execution_count": 62,
     "metadata": {},
     "output_type": "execute_result"
    }
   ],
   "source": [
    "#seeds are used to set a random state so that the randon results can be repoduced\n",
    "\n",
    "np.random.seed(42)\n",
    "np.random.rand(3)\n",
    "\n",
    "#seed 42 corresponds to the fixed printed random values whre size can vary"
   ]
  },
  {
   "cell_type": "code",
   "execution_count": 63,
   "id": "c5a7a0f4",
   "metadata": {},
   "outputs": [
    {
     "data": {
      "text/plain": [
       "array([0.37454012, 0.95071431, 0.73199394, 0.59865848, 0.15601864])"
      ]
     },
     "execution_count": 63,
     "metadata": {},
     "output_type": "execute_result"
    }
   ],
   "source": [
    "#letting the size be 5 for seed=42\n",
    "np.random.seed(42)\n",
    "np.random.rand(5)"
   ]
  },
  {
   "cell_type": "code",
   "execution_count": 64,
   "id": "459e06bc",
   "metadata": {},
   "outputs": [
    {
     "data": {
      "text/plain": [
       "array([0.08373992, 0.33350629, 0.85935575, 0.10568684])"
      ]
     },
     "execution_count": 64,
     "metadata": {},
     "output_type": "execute_result"
    }
   ],
   "source": [
    "#different seed value\n",
    "np.random.seed(105)\n",
    "np.random.rand(4)"
   ]
  },
  {
   "cell_type": "code",
   "execution_count": 66,
   "id": "25f2421b",
   "metadata": {},
   "outputs": [
    {
     "data": {
      "text/plain": [
       "array([0, 5, 6, 9])"
      ]
     },
     "execution_count": 66,
     "metadata": {},
     "output_type": "execute_result"
    }
   ],
   "source": [
    "np.random.seed(105)\n",
    "np.random.randint(0,10,4)"
   ]
  },
  {
   "cell_type": "markdown",
   "id": "41d533f2",
   "metadata": {},
   "source": [
    "## **Some numpy methods**"
   ]
  },
  {
   "cell_type": "code",
   "execution_count": 9,
   "id": "a6a77f00",
   "metadata": {},
   "outputs": [
    {
     "data": {
      "text/plain": [
       "array([ 0,  1,  2,  3,  4,  5,  6,  7,  8,  9, 10, 11, 12, 13, 14, 15, 16,\n",
       "       17, 18, 19, 20, 21, 22, 23])"
      ]
     },
     "execution_count": 9,
     "metadata": {},
     "output_type": "execute_result"
    }
   ],
   "source": [
    "#numpy array to matrix (or any n dimensional shape) using reshape()\n",
    "\n",
    "arr = np.arange(0,24)\n",
    "arr"
   ]
  },
  {
   "cell_type": "code",
   "execution_count": 72,
   "id": "9e35f084",
   "metadata": {},
   "outputs": [
    {
     "data": {
      "text/plain": [
       "array([[ 0,  1,  2,  3,  4,  5],\n",
       "       [ 6,  7,  8,  9, 10, 11],\n",
       "       [12, 13, 14, 15, 16, 17],\n",
       "       [18, 19, 20, 21, 22, 23]])"
      ]
     },
     "execution_count": 72,
     "metadata": {},
     "output_type": "execute_result"
    }
   ],
   "source": [
    "arr.reshape(4,6)"
   ]
  },
  {
   "cell_type": "code",
   "execution_count": 73,
   "id": "11e567c1",
   "metadata": {},
   "outputs": [
    {
     "data": {
      "text/plain": [
       "array([[ 0,  1,  2],\n",
       "       [ 3,  4,  5],\n",
       "       [ 6,  7,  8],\n",
       "       [ 9, 10, 11],\n",
       "       [12, 13, 14],\n",
       "       [15, 16, 17],\n",
       "       [18, 19, 20],\n",
       "       [21, 22, 23]])"
      ]
     },
     "execution_count": 73,
     "metadata": {},
     "output_type": "execute_result"
    }
   ],
   "source": [
    "arr.reshape(8,3)"
   ]
  },
  {
   "cell_type": "code",
   "execution_count": 74,
   "id": "1170ee69",
   "metadata": {},
   "outputs": [
    {
     "data": {
      "text/plain": [
       "array([[ 0,  1,  2,  3],\n",
       "       [ 4,  5,  6,  7],\n",
       "       [ 8,  9, 10, 11],\n",
       "       [12, 13, 14, 15],\n",
       "       [16, 17, 18, 19],\n",
       "       [20, 21, 22, 23]])"
      ]
     },
     "execution_count": 74,
     "metadata": {},
     "output_type": "execute_result"
    }
   ],
   "source": [
    "arr.reshape(6,4)"
   ]
  },
  {
   "cell_type": "code",
   "execution_count": 75,
   "id": "16d223f6",
   "metadata": {},
   "outputs": [
    {
     "data": {
      "text/plain": [
       "array([[ 0,  1],\n",
       "       [ 2,  3],\n",
       "       [ 4,  5],\n",
       "       [ 6,  7],\n",
       "       [ 8,  9],\n",
       "       [10, 11],\n",
       "       [12, 13],\n",
       "       [14, 15],\n",
       "       [16, 17],\n",
       "       [18, 19],\n",
       "       [20, 21],\n",
       "       [22, 23]])"
      ]
     },
     "execution_count": 75,
     "metadata": {},
     "output_type": "execute_result"
    }
   ],
   "source": [
    "arr.reshape(12,2)"
   ]
  },
  {
   "cell_type": "code",
   "execution_count": 5,
   "id": "f7d525f9",
   "metadata": {},
   "outputs": [
    {
     "data": {
      "text/plain": [
       "array([18, 49,  5, 11, 28])"
      ]
     },
     "execution_count": 5,
     "metadata": {},
     "output_type": "execute_result"
    }
   ],
   "source": [
    "#max(), min() are methods to find max, min values in an array\n",
    "\n",
    "randarr = np.random.randint(0,50,5)\n",
    "randarr"
   ]
  },
  {
   "cell_type": "code",
   "execution_count": 6,
   "id": "b87cef9b",
   "metadata": {},
   "outputs": [
    {
     "data": {
      "text/plain": [
       "49"
      ]
     },
     "execution_count": 6,
     "metadata": {},
     "output_type": "execute_result"
    }
   ],
   "source": [
    "randarr.max()"
   ]
  },
  {
   "cell_type": "code",
   "execution_count": 83,
   "id": "75709f4b",
   "metadata": {},
   "outputs": [
    {
     "data": {
      "text/plain": [
       "1"
      ]
     },
     "execution_count": 83,
     "metadata": {},
     "output_type": "execute_result"
    }
   ],
   "source": [
    "randarr.min()"
   ]
  },
  {
   "cell_type": "code",
   "execution_count": 7,
   "id": "a8ca5fbb",
   "metadata": {},
   "outputs": [
    {
     "name": "stdout",
     "output_type": "stream",
     "text": [
      "1\n",
      "2\n"
     ]
    }
   ],
   "source": [
    "#argmax() returns index of max value\n",
    "#argmin() returns index of min value\n",
    "\n",
    "print(randarr.argmax())\n",
    "print(randarr.argmin())"
   ]
  },
  {
   "cell_type": "code",
   "execution_count": 16,
   "id": "4375bc33",
   "metadata": {},
   "outputs": [],
   "source": [
    "#assignment operator does not copy elements, it points to the original elements in the numpy array\n",
    "\n",
    "#copying an array in numpy\n",
    "arr_copy = arr.copy()"
   ]
  },
  {
   "cell_type": "code",
   "execution_count": 17,
   "id": "cdcd9bca",
   "metadata": {},
   "outputs": [
    {
     "data": {
      "text/plain": [
       "array([ 0,  1,  2,  3,  4,  5,  6,  7,  8,  9, 10, 11, 12, 13, 14, 15, 16,\n",
       "       17, 18, 19, 20, 21, 22, 23])"
      ]
     },
     "execution_count": 17,
     "metadata": {},
     "output_type": "execute_result"
    }
   ],
   "source": [
    "arr"
   ]
  },
  {
   "cell_type": "code",
   "execution_count": 18,
   "id": "04d6eed1",
   "metadata": {},
   "outputs": [
    {
     "data": {
      "text/plain": [
       "array([ 0,  1,  2,  3,  4,  5,  6,  7,  8,  9, 10, 11, 12, 13, 14, 15, 16,\n",
       "       17, 18, 19, 20, 21, 22, 23])"
      ]
     },
     "execution_count": 18,
     "metadata": {},
     "output_type": "execute_result"
    }
   ],
   "source": [
    "arr_copy"
   ]
  },
  {
   "cell_type": "markdown",
   "id": "173efd41",
   "metadata": {},
   "source": [
    "## Some numpy attributes"
   ]
  },
  {
   "cell_type": "code",
   "execution_count": 87,
   "id": "5a2a494a",
   "metadata": {},
   "outputs": [
    {
     "data": {
      "text/plain": [
       "dtype('int32')"
      ]
     },
     "execution_count": 87,
     "metadata": {},
     "output_type": "execute_result"
    }
   ],
   "source": [
    "#dtype is an attribute used to find data type of elements of a numpy array\n",
    "\n",
    "randarr.dtype"
   ]
  },
  {
   "cell_type": "code",
   "execution_count": 89,
   "id": "ebe089af",
   "metadata": {},
   "outputs": [
    {
     "data": {
      "text/plain": [
       "numpy.ndarray"
      ]
     },
     "execution_count": 89,
     "metadata": {},
     "output_type": "execute_result"
    }
   ],
   "source": [
    "#type() function returns structure/ data type of the variable randarr\n",
    "\n",
    "type(randarr)"
   ]
  },
  {
   "cell_type": "code",
   "execution_count": 92,
   "id": "9ed2a63b",
   "metadata": {},
   "outputs": [
    {
     "data": {
      "text/plain": [
       "array([[ 0,  1,  2,  3],\n",
       "       [ 4,  5,  6,  7],\n",
       "       [ 8,  9, 10, 11],\n",
       "       [12, 13, 14, 15],\n",
       "       [16, 17, 18, 19],\n",
       "       [20, 21, 22, 23]])"
      ]
     },
     "execution_count": 92,
     "metadata": {},
     "output_type": "execute_result"
    }
   ],
   "source": [
    "#shape is an attribute that returns dimension of an array\n",
    "\n",
    "a = arr.reshape(6,4)\n",
    "a"
   ]
  },
  {
   "cell_type": "code",
   "execution_count": 93,
   "id": "03b6dd15",
   "metadata": {},
   "outputs": [
    {
     "data": {
      "text/plain": [
       "(6, 4)"
      ]
     },
     "execution_count": 93,
     "metadata": {},
     "output_type": "execute_result"
    }
   ],
   "source": [
    "a.shape"
   ]
  },
  {
   "cell_type": "code",
   "execution_count": 94,
   "id": "bd336de8",
   "metadata": {},
   "outputs": [
    {
     "data": {
      "text/plain": [
       "array([ 0,  1,  2,  3,  4,  5,  6,  7,  8,  9, 10, 11, 12, 13, 14, 15, 16,\n",
       "       17, 18, 19, 20, 21, 22, 23])"
      ]
     },
     "execution_count": 94,
     "metadata": {},
     "output_type": "execute_result"
    }
   ],
   "source": [
    "arr"
   ]
  },
  {
   "cell_type": "code",
   "execution_count": 96,
   "id": "7949219d",
   "metadata": {},
   "outputs": [
    {
     "data": {
      "text/plain": [
       "(24,)"
      ]
     },
     "execution_count": 96,
     "metadata": {},
     "output_type": "execute_result"
    }
   ],
   "source": [
    "arr.shape\n",
    "\n",
    "#output: (24,) denotes that arr is a 1D array with 24 elements"
   ]
  },
  {
   "cell_type": "markdown",
   "id": "6391197a",
   "metadata": {},
   "source": [
    "### refer to __[numpy.org](https://numpy.org/)__  for more info and tutorials"
   ]
  }
 ],
 "metadata": {
  "kernelspec": {
   "display_name": "Python 3 (ipykernel)",
   "language": "python",
   "name": "python3"
  },
  "language_info": {
   "codemirror_mode": {
    "name": "ipython",
    "version": 3
   },
   "file_extension": ".py",
   "mimetype": "text/x-python",
   "name": "python",
   "nbconvert_exporter": "python",
   "pygments_lexer": "ipython3",
   "version": "3.10.9"
  }
 },
 "nbformat": 4,
 "nbformat_minor": 5
}
