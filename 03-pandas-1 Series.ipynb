{
 "cells": [
  {
   "cell_type": "markdown",
   "id": "33a62070",
   "metadata": {},
   "source": [
    "## Pandas Series object\n",
    "**Data structure in pandas that holds an array of ifo along with a named index (named index differentiates it from a simple numpy array)**\n",
    "\n",
    "**i.e., 1D ndarray with axis labels**"
   ]
  },
  {
   "cell_type": "markdown",
   "id": "42bff29d",
   "metadata": {},
   "source": [
    "in numpy, indexing is 0,1,2,...\n",
    "\n",
    "example:\n",
    "\n",
    "**index $\\;\\;$  data**\n",
    "\n",
    "0  $\\;\\;\\;\\;\\;\\;\\;$  1776\n",
    "\n",
    "1  $\\;\\;\\;\\;\\;\\;\\;$  1867\n",
    "\n",
    "2  $\\;\\;\\;\\;\\;\\;\\;$ 1821\n",
    "\n",
    "\n",
    "in pandas, another labeled index is created to select data\n",
    "\n",
    "example:\n",
    "\n",
    "**index $\\;\\;$ labeled index $\\;\\;$ data**\n",
    "\n",
    "0  $\\;\\;\\;\\;\\;\\;\\;\\;$  USA  $\\;\\;\\;\\;\\;\\;\\;\\;\\;\\;\\;\\;\\;\\;$  1776\n",
    "\n",
    "1  $\\;\\;\\;\\;\\;\\;\\;\\;$  CANADA  $\\;\\;\\;\\;\\;\\;\\;\\;$  1867\n",
    "\n",
    "2  $\\;\\;\\;\\;\\;\\;\\;\\;$  MEXICO  $\\;\\;\\;\\;\\;\\;\\;\\;\\;$  1821"
   ]
  },
  {
   "cell_type": "code",
   "execution_count": 2,
   "id": "0fb20585",
   "metadata": {},
   "outputs": [],
   "source": [
    "import numpy as np\n",
    "import pandas as pd"
   ]
  },
  {
   "cell_type": "code",
   "execution_count": 4,
   "id": "3e1361ff",
   "metadata": {},
   "outputs": [],
   "source": [
    "myindex = ['USA','Canada','Mexico']\n",
    "mydata = [1776,1867,1821]"
   ]
  },
  {
   "cell_type": "code",
   "execution_count": 5,
   "id": "98168004",
   "metadata": {},
   "outputs": [],
   "source": [
    "#pandas series without labeled axis\n",
    "myser = pd.Series(data = mydata)"
   ]
  },
  {
   "cell_type": "code",
   "execution_count": 7,
   "id": "cf2efacf",
   "metadata": {},
   "outputs": [
    {
     "name": "stdout",
     "output_type": "stream",
     "text": [
      "0    1776\n",
      "1    1867\n",
      "2    1821\n",
      "dtype: int64\n"
     ]
    }
   ],
   "source": [
    "myser"
   ]
  },
  {
   "cell_type": "code",
   "execution_count": 8,
   "id": "e186df87",
   "metadata": {},
   "outputs": [
    {
     "data": {
      "text/plain": [
       "pandas.core.series.Series"
      ]
     },
     "execution_count": 8,
     "metadata": {},
     "output_type": "execute_result"
    }
   ],
   "source": [
    "type(myser)"
   ]
  },
  {
   "cell_type": "code",
   "execution_count": 11,
   "id": "9a111745",
   "metadata": {},
   "outputs": [],
   "source": [
    "#pandas series with labeled axis\n",
    "myser = pd.Series(data = mydata, index = myindex)"
   ]
  },
  {
   "cell_type": "code",
   "execution_count": 12,
   "id": "9386e8fd",
   "metadata": {},
   "outputs": [
    {
     "data": {
      "text/plain": [
       "USA       1776\n",
       "Canada    1867\n",
       "Mexico    1821\n",
       "dtype: int64"
      ]
     },
     "execution_count": 12,
     "metadata": {},
     "output_type": "execute_result"
    }
   ],
   "source": [
    "myser"
   ]
  },
  {
   "cell_type": "code",
   "execution_count": 13,
   "id": "ce681cdf",
   "metadata": {},
   "outputs": [
    {
     "data": {
      "text/plain": [
       "1776"
      ]
     },
     "execution_count": 13,
     "metadata": {},
     "output_type": "execute_result"
    }
   ],
   "source": [
    "#analogous to a dictionary\n",
    "#indexing by 0,1,2 or by USA, Canada, Mexico\n",
    "\n",
    "myser[0]"
   ]
  },
  {
   "cell_type": "code",
   "execution_count": 15,
   "id": "cff3c1fe",
   "metadata": {},
   "outputs": [
    {
     "data": {
      "text/plain": [
       "1776"
      ]
     },
     "execution_count": 15,
     "metadata": {},
     "output_type": "execute_result"
    }
   ],
   "source": [
    "myser['USA']"
   ]
  },
  {
   "cell_type": "code",
   "execution_count": 16,
   "id": "9d3a0c2c",
   "metadata": {},
   "outputs": [
    {
     "data": {
      "text/plain": [
       "USA       1776\n",
       "Canada    1867\n",
       "dtype: int64"
      ]
     },
     "execution_count": 16,
     "metadata": {},
     "output_type": "execute_result"
    }
   ],
   "source": [
    "myser[0:2] #index 2 is not included"
   ]
  },
  {
   "cell_type": "code",
   "execution_count": 17,
   "id": "4dc87c2a",
   "metadata": {},
   "outputs": [
    {
     "data": {
      "text/plain": [
       "USA       1776\n",
       "Canada    1867\n",
       "Mexico    1821\n",
       "dtype: int64"
      ]
     },
     "execution_count": 17,
     "metadata": {},
     "output_type": "execute_result"
    }
   ],
   "source": [
    "myser['USA':'Mexico']  #index 'Mexico' is included"
   ]
  },
  {
   "cell_type": "code",
   "execution_count": 18,
   "id": "8ab25774",
   "metadata": {},
   "outputs": [
    {
     "data": {
      "text/plain": [
       "USA       1776\n",
       "Canada    1867\n",
       "Mexico    1821\n",
       "dtype: int64"
      ]
     },
     "execution_count": 18,
     "metadata": {},
     "output_type": "execute_result"
    }
   ],
   "source": [
    "#specifying 'data' and 'index' keywords is not necessary as long the order is correct of the identifier names as parameters\n",
    "#example:\n",
    "newser = pd.Series(mydata,myindex)\n",
    "newser"
   ]
  },
  {
   "cell_type": "markdown",
   "id": "d0e96e22",
   "metadata": {},
   "source": [
    "- **Creating pandas series using dictionary**"
   ]
  },
  {
   "cell_type": "code",
   "execution_count": 19,
   "id": "e1baa016",
   "metadata": {},
   "outputs": [],
   "source": [
    "#define a dictionary\n",
    "ages = {'Sam':5,'Frank':10,'Spike':7}"
   ]
  },
  {
   "cell_type": "code",
   "execution_count": 20,
   "id": "42283f84",
   "metadata": {},
   "outputs": [
    {
     "data": {
      "text/plain": [
       "{'Sam': 5, 'Frank': 10, 'Spike': 7}"
      ]
     },
     "execution_count": 20,
     "metadata": {},
     "output_type": "execute_result"
    }
   ],
   "source": [
    "ages"
   ]
  },
  {
   "cell_type": "code",
   "execution_count": 22,
   "id": "0bec4693",
   "metadata": {},
   "outputs": [
    {
     "data": {
      "text/plain": [
       "Sam       5\n",
       "Frank    10\n",
       "Spike     7\n",
       "dtype: int64"
      ]
     },
     "execution_count": 22,
     "metadata": {},
     "output_type": "execute_result"
    }
   ],
   "source": [
    "#Dictionary keys: Sam, Frank, Spike\n",
    "#Dictionary values: 5, 10, 7\n",
    "\n",
    "#Pandas series automatically sets the keys as index and the values as data\n",
    "pd.Series(ages)"
   ]
  },
  {
   "cell_type": "code",
   "execution_count": 23,
   "id": "fbed0db9",
   "metadata": {},
   "outputs": [
    {
     "data": {
      "text/plain": [
       "150"
      ]
     },
     "execution_count": 23,
     "metadata": {},
     "output_type": "execute_result"
    }
   ],
   "source": [
    "#TASK: Use pandas to grab the expenses paid by Bob.\n",
    "\n",
    "expenses = pd.Series({'Andrew':200,'Bob':150,'Claire':450})\n",
    "\n",
    "expenses['Bob']"
   ]
  },
  {
   "cell_type": "code",
   "execution_count": null,
   "id": "ac2e17c1",
   "metadata": {},
   "outputs": [],
   "source": []
  }
 ],
 "metadata": {
  "kernelspec": {
   "display_name": "Python 3 (ipykernel)",
   "language": "python",
   "name": "python3"
  },
  "language_info": {
   "codemirror_mode": {
    "name": "ipython",
    "version": 3
   },
   "file_extension": ".py",
   "mimetype": "text/x-python",
   "name": "python",
   "nbconvert_exporter": "python",
   "pygments_lexer": "ipython3",
   "version": "3.10.9"
  }
 },
 "nbformat": 4,
 "nbformat_minor": 5
}
