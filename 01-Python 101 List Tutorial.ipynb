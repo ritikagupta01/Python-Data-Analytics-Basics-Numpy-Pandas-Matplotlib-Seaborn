{
 "cells": [
  {
   "cell_type": "markdown",
   "id": "b5d09767",
   "metadata": {},
   "source": [
    "# List tutorial\n",
    "----"
   ]
  },
  {
   "cell_type": "code",
   "execution_count": 1,
   "id": "30b1dfe5",
   "metadata": {},
   "outputs": [
    {
     "data": {
      "text/plain": [
       "['Jim', 'Alex', 'Tom', 'Peter', 'Ken']"
      ]
     },
     "execution_count": 1,
     "metadata": {},
     "output_type": "execute_result"
    }
   ],
   "source": [
    "friends = [\"Jim\",\"Alex\",\"Tom\",\"Peter\",\"Ken\"]\n",
    "\n",
    "#printing from begining\n",
    "friends\n"
   ]
  },
  {
   "cell_type": "code",
   "execution_count": 2,
   "id": "a15eab1c",
   "metadata": {},
   "outputs": [
    {
     "data": {
      "text/plain": [
       "['Ken', 'Peter', 'Tom', 'Alex', 'Jim']"
      ]
     },
     "execution_count": 2,
     "metadata": {},
     "output_type": "execute_result"
    }
   ],
   "source": [
    "#reverse printing\n",
    "friends[4::-1]"
   ]
  },
  {
   "cell_type": "code",
   "execution_count": 4,
   "id": "d462026f",
   "metadata": {},
   "outputs": [
    {
     "data": {
      "text/plain": [
       "['Jim', 'Tom', 'Ken']"
      ]
     },
     "execution_count": 4,
     "metadata": {},
     "output_type": "execute_result"
    }
   ],
   "source": [
    "#slicing a list\n",
    "friends[0:5:2]"
   ]
  },
  {
   "cell_type": "code",
   "execution_count": 5,
   "id": "99940b20",
   "metadata": {},
   "outputs": [
    {
     "data": {
      "text/plain": [
       "['Jim', 'Alex', 'Tom', 'Peter']"
      ]
     },
     "execution_count": 5,
     "metadata": {},
     "output_type": "execute_result"
    }
   ],
   "source": [
    "#setting a range to print elements\n",
    "#prints elts indexed 0,1,2,3\n",
    "friends[0:4]"
   ]
  },
  {
   "cell_type": "code",
   "execution_count": 6,
   "id": "ea7e7076",
   "metadata": {},
   "outputs": [
    {
     "name": "stdout",
     "output_type": "stream",
     "text": [
      "len(string) = 5\n"
     ]
    }
   ],
   "source": [
    "#length of a list\n",
    "print('len(string) = '+ str(len(friends)))"
   ]
  },
  {
   "cell_type": "markdown",
   "id": "c155a69f",
   "metadata": {},
   "source": [
    "## List methods"
   ]
  },
  {
   "cell_type": "code",
   "execution_count": 7,
   "id": "7b2aca29",
   "metadata": {},
   "outputs": [
    {
     "data": {
      "text/plain": [
       "['Jim', 'Alex', 'Tom', 'Peter', 'Ken']"
      ]
     },
     "execution_count": 7,
     "metadata": {},
     "output_type": "execute_result"
    }
   ],
   "source": [
    "numbers = ['1','5','1']\n",
    "friends2 = [\"A\",\"B\",\"C\"]\n",
    "\n",
    "#copying a list\n",
    "#the list being copied to gets overwritten\n",
    "friends2=friends.copy()\n",
    "friends2"
   ]
  },
  {
   "cell_type": "code",
   "execution_count": 8,
   "id": "66f1886a",
   "metadata": {},
   "outputs": [
    {
     "data": {
      "text/plain": [
       "['Jim', 'Alex', 'Tom', 'Peter', 'Ken', '1', '5', '1']"
      ]
     },
     "execution_count": 8,
     "metadata": {},
     "output_type": "execute_result"
    }
   ],
   "source": [
    "#concatenating two strings\n",
    "friends.extend(numbers)\n",
    "friends"
   ]
  },
  {
   "cell_type": "code",
   "execution_count": 9,
   "id": "b0b5a63a",
   "metadata": {},
   "outputs": [
    {
     "data": {
      "text/plain": [
       "['Jim', 'Alex', 'Tom', 'Peter', 'Ken', '1', '5', '1', 'Julie']"
      ]
     },
     "execution_count": 9,
     "metadata": {},
     "output_type": "execute_result"
    }
   ],
   "source": [
    "#adding a single element to a list\n",
    "#append takes exactly one argument\n",
    "friends.append(\"Julie\")\n",
    "friends"
   ]
  },
  {
   "cell_type": "code",
   "execution_count": 10,
   "id": "7a007cf3",
   "metadata": {},
   "outputs": [
    {
     "data": {
      "text/plain": [
       "['Jim', 'Alex', 'Ritika', 'Tom', 'Peter', 'Ken', '1', '5', '1', 'Julie']"
      ]
     },
     "execution_count": 10,
     "metadata": {},
     "output_type": "execute_result"
    }
   ],
   "source": [
    "#inserting new element at a specific index position\n",
    "friends.insert(2,\"Ritika\")\n",
    "friends"
   ]
  },
  {
   "cell_type": "code",
   "execution_count": 11,
   "id": "f4796997",
   "metadata": {},
   "outputs": [
    {
     "data": {
      "text/plain": [
       "['Jim', 'Alex', 'Ritika', 'Tom', 'Ken', '1', '5', '1', 'Julie']"
      ]
     },
     "execution_count": 11,
     "metadata": {},
     "output_type": "execute_result"
    }
   ],
   "source": [
    "#removing element by value name\n",
    "friends.remove(\"Peter\")\n",
    "friends"
   ]
  },
  {
   "cell_type": "code",
   "execution_count": 12,
   "id": "949845e3",
   "metadata": {},
   "outputs": [
    {
     "data": {
      "text/plain": [
       "['Jim', 'Ritika', 'Tom', 'Ken', '1', '5', '1', 'Julie']"
      ]
     },
     "execution_count": 12,
     "metadata": {},
     "output_type": "execute_result"
    }
   ],
   "source": [
    "#removing element by index value\n",
    "friends.pop(1)\n",
    "friends"
   ]
  },
  {
   "cell_type": "code",
   "execution_count": 13,
   "id": "0986fe28",
   "metadata": {},
   "outputs": [
    {
     "data": {
      "text/plain": [
       "['Jim', 'Ritika', 'Tom', 'Ken', '1', '5', '1']"
      ]
     },
     "execution_count": 13,
     "metadata": {},
     "output_type": "execute_result"
    }
   ],
   "source": [
    "#by default, pop removes the last element\n",
    "friends.pop()\n",
    "friends"
   ]
  },
  {
   "cell_type": "code",
   "execution_count": 14,
   "id": "16abb794",
   "metadata": {},
   "outputs": [
    {
     "data": {
      "text/plain": [
       "2"
      ]
     },
     "execution_count": 14,
     "metadata": {},
     "output_type": "execute_result"
    }
   ],
   "source": [
    "#searching index value by name\n",
    "friends.index(\"Tom\")"
   ]
  },
  {
   "cell_type": "code",
   "execution_count": 15,
   "id": "baaa9e89",
   "metadata": {},
   "outputs": [
    {
     "data": {
      "text/plain": [
       "2"
      ]
     },
     "execution_count": 15,
     "metadata": {},
     "output_type": "execute_result"
    }
   ],
   "source": [
    "#counting occurrences of a value\n",
    "friends.count(\"1\")"
   ]
  },
  {
   "cell_type": "code",
   "execution_count": 16,
   "id": "11deaceb",
   "metadata": {},
   "outputs": [
    {
     "data": {
      "text/plain": [
       "['1', '5', '1', 'Ken', 'Tom', 'Ritika', 'Jim']"
      ]
     },
     "execution_count": 16,
     "metadata": {},
     "output_type": "execute_result"
    }
   ],
   "source": [
    "#reversing a string\n",
    "friends.reverse()\n",
    "friends"
   ]
  },
  {
   "cell_type": "code",
   "execution_count": 17,
   "id": "7a590681",
   "metadata": {},
   "outputs": [
    {
     "data": {
      "text/plain": [
       "['1', '1', '5', 'Jim', 'Ken', 'Ritika', 'Tom']"
      ]
     },
     "execution_count": 17,
     "metadata": {},
     "output_type": "execute_result"
    }
   ],
   "source": [
    "#sorting a list (ascending)\n",
    "friends.sort()\n",
    "friends"
   ]
  },
  {
   "cell_type": "code",
   "execution_count": 18,
   "id": "7ceac800",
   "metadata": {},
   "outputs": [
    {
     "data": {
      "text/plain": [
       "[]"
      ]
     },
     "execution_count": 18,
     "metadata": {},
     "output_type": "execute_result"
    }
   ],
   "source": [
    "#clearing a list\n",
    "friends.clear()\n",
    "friends"
   ]
  },
  {
   "cell_type": "code",
   "execution_count": null,
   "id": "473bbc77",
   "metadata": {},
   "outputs": [],
   "source": []
  }
 ],
 "metadata": {
  "kernelspec": {
   "display_name": "Python 3 (ipykernel)",
   "language": "python",
   "name": "python3"
  },
  "language_info": {
   "codemirror_mode": {
    "name": "ipython",
    "version": 3
   },
   "file_extension": ".py",
   "mimetype": "text/x-python",
   "name": "python",
   "nbconvert_exporter": "python",
   "pygments_lexer": "ipython3",
   "version": "3.10.9"
  }
 },
 "nbformat": 4,
 "nbformat_minor": 5
}
