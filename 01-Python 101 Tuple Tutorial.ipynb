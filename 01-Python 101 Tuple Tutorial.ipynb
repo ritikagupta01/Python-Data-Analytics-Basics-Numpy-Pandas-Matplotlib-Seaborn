{
 "cells": [
  {
   "cell_type": "markdown",
   "id": "37c86cdf",
   "metadata": {},
   "source": [
    "# Tuple tutorial\n",
    "\n",
    "**difference betweeen tuple and list:**\n",
    "  - lists are mutable\n",
    "  - tuples are immutable\n",
    "  \n",
    "**indexing and accessing is same as in list**\n",
    "\n",
    "----"
   ]
  },
  {
   "cell_type": "code",
   "execution_count": 1,
   "id": "a8de19e6",
   "metadata": {},
   "outputs": [
    {
     "data": {
      "text/plain": [
       "(4, 5)"
      ]
     },
     "execution_count": 1,
     "metadata": {},
     "output_type": "execute_result"
    }
   ],
   "source": [
    "#examples of a tuple\n",
    "\n",
    "coordinates = (4,5)\n",
    "coordinates"
   ]
  },
  {
   "cell_type": "code",
   "execution_count": 3,
   "id": "6e656f00",
   "metadata": {},
   "outputs": [
    {
     "data": {
      "text/plain": [
       "((6, 'tim', 9, (3, 6)), (4, 5))"
      ]
     },
     "execution_count": 3,
     "metadata": {},
     "output_type": "execute_result"
    }
   ],
   "source": [
    "#tuple in tuple\n",
    "\n",
    "tuple2 = (6,'tim',9,(3,6))\n",
    "tuple3 = (tuple2,coordinates)\n",
    "\n",
    "tuple3"
   ]
  },
  {
   "cell_type": "code",
   "execution_count": 4,
   "id": "5ddccc63",
   "metadata": {},
   "outputs": [
    {
     "data": {
      "text/plain": [
       "((6, 'tim', 9, (3, 6)), [(4, 5), (4, 5)])"
      ]
     },
     "execution_count": 4,
     "metadata": {},
     "output_type": "execute_result"
    }
   ],
   "source": [
    "#tuple in list in tuple\n",
    "\n",
    "tuple4 = (tuple2,[coordinates,coordinates])\n",
    "\n",
    "tuple4"
   ]
  },
  {
   "cell_type": "code",
   "execution_count": 5,
   "id": "2e67304f",
   "metadata": {},
   "outputs": [
    {
     "data": {
      "text/plain": [
       "[(6, 'tim', 9, (3, 6)), (4, 5)]"
      ]
     },
     "execution_count": 5,
     "metadata": {},
     "output_type": "execute_result"
    }
   ],
   "source": [
    "#tuples in list\n",
    "list2 = [tuple2,coordinates]\n",
    "\n",
    "list2"
   ]
  },
  {
   "cell_type": "code",
   "execution_count": null,
   "id": "3a08a830",
   "metadata": {},
   "outputs": [],
   "source": []
  }
 ],
 "metadata": {
  "kernelspec": {
   "display_name": "Python 3 (ipykernel)",
   "language": "python",
   "name": "python3"
  },
  "language_info": {
   "codemirror_mode": {
    "name": "ipython",
    "version": 3
   },
   "file_extension": ".py",
   "mimetype": "text/x-python",
   "name": "python",
   "nbconvert_exporter": "python",
   "pygments_lexer": "ipython3",
   "version": "3.10.9"
  }
 },
 "nbformat": 4,
 "nbformat_minor": 5
}
