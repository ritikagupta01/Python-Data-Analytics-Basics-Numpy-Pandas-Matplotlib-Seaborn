{
 "cells": [
  {
   "cell_type": "markdown",
   "id": "cc3eb2ac",
   "metadata": {},
   "source": [
    "## Pandas Series object Operations"
   ]
  },
  {
   "cell_type": "code",
   "execution_count": 27,
   "id": "3b9e8f19",
   "metadata": {},
   "outputs": [],
   "source": [
    "import pandas as pd\n",
    "import numpy as np"
   ]
  },
  {
   "cell_type": "code",
   "execution_count": 2,
   "id": "6a312a2a",
   "metadata": {},
   "outputs": [],
   "source": [
    "#imaginary sales data samples as dictionaries\n",
    "q1 = {'Japan':80,'China':450,'India':200,'USA':250}\n",
    "q2 = {'Brazil':100,'China':500,'India':210,'USA':260}"
   ]
  },
  {
   "cell_type": "code",
   "execution_count": 3,
   "id": "e8caa07b",
   "metadata": {},
   "outputs": [
    {
     "data": {
      "text/plain": [
       "{'Japan': 80, 'China': 450, 'India': 200, 'USA': 250}"
      ]
     },
     "execution_count": 3,
     "metadata": {},
     "output_type": "execute_result"
    }
   ],
   "source": [
    "q1"
   ]
  },
  {
   "cell_type": "code",
   "execution_count": 4,
   "id": "1b7c476e",
   "metadata": {},
   "outputs": [
    {
     "data": {
      "text/plain": [
       "{'Brazil': 100, 'China': 500, 'India': 210, 'USA': 260}"
      ]
     },
     "execution_count": 4,
     "metadata": {},
     "output_type": "execute_result"
    }
   ],
   "source": [
    "q2"
   ]
  },
  {
   "cell_type": "code",
   "execution_count": 6,
   "id": "f53a7710",
   "metadata": {},
   "outputs": [
    {
     "data": {
      "text/plain": [
       "Japan     80\n",
       "China    450\n",
       "India    200\n",
       "USA      250\n",
       "dtype: int64"
      ]
     },
     "execution_count": 6,
     "metadata": {},
     "output_type": "execute_result"
    }
   ],
   "source": [
    "sales_q1 = pd.Series(q1)\n",
    "sales_q1"
   ]
  },
  {
   "cell_type": "code",
   "execution_count": 7,
   "id": "0de3b2ed",
   "metadata": {},
   "outputs": [
    {
     "data": {
      "text/plain": [
       "Brazil    100\n",
       "China     500\n",
       "India     210\n",
       "USA       260\n",
       "dtype: int64"
      ]
     },
     "execution_count": 7,
     "metadata": {},
     "output_type": "execute_result"
    }
   ],
   "source": [
    "sales_q2 = pd.Series(q2)\n",
    "sales_q2"
   ]
  },
  {
   "cell_type": "code",
   "execution_count": 8,
   "id": "a1269eb5",
   "metadata": {},
   "outputs": [
    {
     "data": {
      "text/plain": [
       "Index(['Japan', 'China', 'India', 'USA'], dtype='object')"
      ]
     },
     "execution_count": 8,
     "metadata": {},
     "output_type": "execute_result"
    }
   ],
   "source": [
    "#printing keys of the dictionary / index of the pandas series\n",
    "\n",
    "#using pandas series\n",
    "sales_q1.keys()"
   ]
  },
  {
   "cell_type": "code",
   "execution_count": 9,
   "id": "65408851",
   "metadata": {},
   "outputs": [
    {
     "data": {
      "text/plain": [
       "dict_keys(['Japan', 'China', 'India', 'USA'])"
      ]
     },
     "execution_count": 9,
     "metadata": {},
     "output_type": "execute_result"
    }
   ],
   "source": [
    "#using dictionary\n",
    "q1.keys()"
   ]
  },
  {
   "cell_type": "code",
   "execution_count": 14,
   "id": "23b748c2",
   "metadata": {},
   "outputs": [
    {
     "data": {
      "text/plain": [
       "dict_values([80, 450, 200, 250])"
      ]
     },
     "execution_count": 14,
     "metadata": {},
     "output_type": "execute_result"
    }
   ],
   "source": [
    "#printing values of dict / data in pandas series\n",
    "#using dictionary\n",
    "q1.values()"
   ]
  },
  {
   "cell_type": "code",
   "execution_count": 21,
   "id": "2f666ad1",
   "metadata": {},
   "outputs": [
    {
     "data": {
      "text/plain": [
       "Japan     80\n",
       "China    450\n",
       "India    200\n",
       "dtype: int64"
      ]
     },
     "execution_count": 21,
     "metadata": {},
     "output_type": "execute_result"
    }
   ],
   "source": [
    "#using pandas series\n",
    "sales_q1['Japan':'India']"
   ]
  },
  {
   "cell_type": "code",
   "execution_count": 22,
   "id": "3281a360",
   "metadata": {},
   "outputs": [
    {
     "data": {
      "text/plain": [
       "China    500\n",
       "India    210\n",
       "USA      260\n",
       "dtype: int64"
      ]
     },
     "execution_count": 22,
     "metadata": {},
     "output_type": "execute_result"
    }
   ],
   "source": [
    "sales_q2['China':]"
   ]
  },
  {
   "cell_type": "code",
   "execution_count": 23,
   "id": "7982a610",
   "metadata": {},
   "outputs": [
    {
     "data": {
      "text/plain": [
       "Brazil    100\n",
       "China     500\n",
       "India     210\n",
       "USA       260\n",
       "dtype: int64"
      ]
     },
     "execution_count": 23,
     "metadata": {},
     "output_type": "execute_result"
    }
   ],
   "source": [
    "sales_q2[:]"
   ]
  },
  {
   "cell_type": "code",
   "execution_count": 24,
   "id": "cf76e13f",
   "metadata": {},
   "outputs": [
    {
     "data": {
      "text/plain": [
       "Brazil    100\n",
       "China     500\n",
       "India     210\n",
       "USA       260\n",
       "dtype: int64"
      ]
     },
     "execution_count": 24,
     "metadata": {},
     "output_type": "execute_result"
    }
   ],
   "source": [
    "sales_q2"
   ]
  },
  {
   "cell_type": "markdown",
   "id": "5720292a",
   "metadata": {},
   "source": [
    "- **Broadcasting**"
   ]
  },
  {
   "cell_type": "code",
   "execution_count": 25,
   "id": "01225d70",
   "metadata": {},
   "outputs": [
    {
     "data": {
      "text/plain": [
       "[1, 2, 1, 2]"
      ]
     },
     "execution_count": 25,
     "metadata": {},
     "output_type": "execute_result"
    }
   ],
   "source": [
    "#operations in standard python list are not broadcasted\n",
    "[1,2]*2"
   ]
  },
  {
   "cell_type": "code",
   "execution_count": 29,
   "id": "2dcd94ed",
   "metadata": {},
   "outputs": [
    {
     "data": {
      "text/plain": [
       "array([2, 4])"
      ]
     },
     "execution_count": 29,
     "metadata": {},
     "output_type": "execute_result"
    }
   ],
   "source": [
    "#in pandas series, operations are broadcasted because pandas is built on numpy library\n",
    "arr = np.array([1,2])\n",
    "arr*2"
   ]
  },
  {
   "cell_type": "code",
   "execution_count": 30,
   "id": "fcf321a7",
   "metadata": {},
   "outputs": [
    {
     "data": {
      "text/plain": [
       "array([1, 2])"
      ]
     },
     "execution_count": 30,
     "metadata": {},
     "output_type": "execute_result"
    }
   ],
   "source": [
    "arr"
   ]
  },
  {
   "cell_type": "code",
   "execution_count": 31,
   "id": "a11b9dad",
   "metadata": {},
   "outputs": [
    {
     "data": {
      "text/plain": [
       "Japan    160\n",
       "China    900\n",
       "India    400\n",
       "USA      500\n",
       "dtype: int64"
      ]
     },
     "execution_count": 31,
     "metadata": {},
     "output_type": "execute_result"
    }
   ],
   "source": [
    "sales_q1*2"
   ]
  },
  {
   "cell_type": "code",
   "execution_count": 32,
   "id": "b13469e9",
   "metadata": {},
   "outputs": [
    {
     "data": {
      "text/plain": [
       "Japan    0.8\n",
       "China    4.5\n",
       "India    2.0\n",
       "USA      2.5\n",
       "dtype: float64"
      ]
     },
     "execution_count": 32,
     "metadata": {},
     "output_type": "execute_result"
    }
   ],
   "source": [
    "sales_q1/100"
   ]
  },
  {
   "cell_type": "code",
   "execution_count": 34,
   "id": "2f5bc933",
   "metadata": {},
   "outputs": [
    {
     "data": {
      "text/plain": [
       "Japan     80\n",
       "China    450\n",
       "India    200\n",
       "USA      250\n",
       "dtype: int64"
      ]
     },
     "execution_count": 34,
     "metadata": {},
     "output_type": "execute_result"
    }
   ],
   "source": [
    "sales_q1"
   ]
  },
  {
   "cell_type": "code",
   "execution_count": 35,
   "id": "7413b664",
   "metadata": {},
   "outputs": [
    {
     "data": {
      "text/plain": [
       "Brazil    100\n",
       "China     500\n",
       "India     210\n",
       "USA       260\n",
       "dtype: int64"
      ]
     },
     "execution_count": 35,
     "metadata": {},
     "output_type": "execute_result"
    }
   ],
   "source": [
    "sales_q2"
   ]
  },
  {
   "cell_type": "code",
   "execution_count": 36,
   "id": "122b6d94",
   "metadata": {},
   "outputs": [
    {
     "data": {
      "text/plain": [
       "Brazil      NaN\n",
       "China     950.0\n",
       "India     410.0\n",
       "Japan       NaN\n",
       "USA       510.0\n",
       "dtype: float64"
      ]
     },
     "execution_count": 36,
     "metadata": {},
     "output_type": "execute_result"
    }
   ],
   "source": [
    "sales_q1 + sales_q2\n",
    "\n",
    "#Since indices are not common, we get NaN for the uncommon indices"
   ]
  },
  {
   "cell_type": "code",
   "execution_count": 43,
   "id": "7c120f3e",
   "metadata": {},
   "outputs": [
    {
     "data": {
      "text/plain": [
       "Brazil    100.0\n",
       "China     950.0\n",
       "India     410.0\n",
       "Japan      80.0\n",
       "USA       510.0\n",
       "dtype: float64"
      ]
     },
     "execution_count": 43,
     "metadata": {},
     "output_type": "execute_result"
    }
   ],
   "source": [
    "#making indices same in both series\n",
    "#adding data with unequal indices\n",
    "\n",
    "sales_sum = sales_q1.add(sales_q2,fill_value=0)\n",
    "sales_sum\n",
    "\n",
    "# adds data from both series\n",
    "# fill_value = 0 will treat value for brazil as 0 in q1 and\n",
    "# value of japa as 0 in q2\n",
    "# i.e., fill_value sets value for the missing indices in a series"
   ]
  },
  {
   "cell_type": "code",
   "execution_count": 42,
   "id": "7d2b7e20",
   "metadata": {},
   "outputs": [
    {
     "data": {
      "text/plain": [
       "dtype('int64')"
      ]
     },
     "execution_count": 42,
     "metadata": {},
     "output_type": "execute_result"
    }
   ],
   "source": [
    "#data in q1, q2 was of int type.\n",
    "#numeric computations convert the data type to floating point numbers\n",
    "\n",
    "sales_q1.dtype"
   ]
  },
  {
   "cell_type": "code",
   "execution_count": 44,
   "id": "5a9647d5",
   "metadata": {},
   "outputs": [
    {
     "data": {
      "text/plain": [
       "dtype('float64')"
      ]
     },
     "execution_count": 44,
     "metadata": {},
     "output_type": "execute_result"
    }
   ],
   "source": [
    "sales_sum.dtype"
   ]
  },
  {
   "cell_type": "code",
   "execution_count": 45,
   "id": "33745ee8",
   "metadata": {},
   "outputs": [],
   "source": [
    "#Also, data type can be set using the dtype parameter in pandas Series() method\n"
   ]
  },
  {
   "cell_type": "code",
   "execution_count": null,
   "id": "b90fd51e",
   "metadata": {},
   "outputs": [],
   "source": []
  }
 ],
 "metadata": {
  "kernelspec": {
   "display_name": "Python 3 (ipykernel)",
   "language": "python",
   "name": "python3"
  },
  "language_info": {
   "codemirror_mode": {
    "name": "ipython",
    "version": 3
   },
   "file_extension": ".py",
   "mimetype": "text/x-python",
   "name": "python",
   "nbconvert_exporter": "python",
   "pygments_lexer": "ipython3",
   "version": "3.10.9"
  }
 },
 "nbformat": 4,
 "nbformat_minor": 5
}
