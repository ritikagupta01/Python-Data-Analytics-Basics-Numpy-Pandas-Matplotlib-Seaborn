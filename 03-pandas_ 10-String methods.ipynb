{
 "cells": [
  {
   "cell_type": "markdown",
   "id": "63393c51",
   "metadata": {},
   "source": [
    "# Srting/Text methods\n",
    "### .str.method()"
   ]
  },
  {
   "cell_type": "code",
   "execution_count": 1,
   "id": "ec01bce9",
   "metadata": {},
   "outputs": [],
   "source": [
    "import numpy as np\n",
    "import pandas as pd"
   ]
  },
  {
   "cell_type": "markdown",
   "id": "207806b7",
   "metadata": {},
   "source": [
    "**Two ways to store data in pandas:**\n",
    "1. object-dtype NumPy array  \n",
    "- can store not only strings but also mixed data including null values\n",
    "- default datatype for strings\n",
    "\n",
    "2. stringDtype  \n",
    "- need to explicitely state while using it\n",
    "- new datatype for strings\n",
    "- decreased memory consumption"
   ]
  },
  {
   "cell_type": "code",
   "execution_count": 2,
   "id": "11f29fd2",
   "metadata": {},
   "outputs": [],
   "source": [
    "#splitting email to find name\n",
    "\n",
    "email = 'ritika@email.com'"
   ]
  },
  {
   "cell_type": "code",
   "execution_count": 3,
   "id": "61e33a37",
   "metadata": {},
   "outputs": [
    {
     "data": {
      "text/plain": [
       "['ritika', 'email.com']"
      ]
     },
     "execution_count": 3,
     "metadata": {},
     "output_type": "execute_result"
    }
   ],
   "source": [
    "email.split('@')"
   ]
  },
  {
   "cell_type": "code",
   "execution_count": 4,
   "id": "da0b6050",
   "metadata": {},
   "outputs": [
    {
     "data": {
      "text/plain": [
       "'ritika'"
      ]
     },
     "execution_count": 4,
     "metadata": {},
     "output_type": "execute_result"
    }
   ],
   "source": [
    "email.split('@')[0]"
   ]
  },
  {
   "cell_type": "code",
   "execution_count": 23,
   "id": "9c818504",
   "metadata": {},
   "outputs": [
    {
     "data": {
      "text/plain": [
       "0    ritika\n",
       "1    shruti\n",
       "2      june\n",
       "3    bombay\n",
       "4         5\n",
       "dtype: object"
      ]
     },
     "execution_count": 23,
     "metadata": {},
     "output_type": "execute_result"
    }
   ],
   "source": [
    "#String methods on a pandas series\n",
    "\n",
    "names = pd.Series(['ritika','shruti','june','bombay','5'])\n",
    "names"
   ]
  },
  {
   "cell_type": "code",
   "execution_count": 24,
   "id": "2332f800",
   "metadata": {},
   "outputs": [
    {
     "data": {
      "text/plain": [
       "0    Ritika\n",
       "1    Shruti\n",
       "2      June\n",
       "3    Bombay\n",
       "4         5\n",
       "dtype: object"
      ]
     },
     "execution_count": 24,
     "metadata": {},
     "output_type": "execute_result"
    }
   ],
   "source": [
    "#capitalize first alphabet of every word\n",
    "names.str.capitalize()"
   ]
  },
  {
   "cell_type": "code",
   "execution_count": 14,
   "id": "b7737b0c",
   "metadata": {},
   "outputs": [
    {
     "data": {
      "text/plain": [
       "0    RITIKA\n",
       "1    SHRUTI\n",
       "2      JUNE\n",
       "3    BOMBAY\n",
       "4         5\n",
       "dtype: object"
      ]
     },
     "execution_count": 14,
     "metadata": {},
     "output_type": "execute_result"
    }
   ],
   "source": [
    "#uppercase\n",
    "names.str.upper()"
   ]
  },
  {
   "cell_type": "code",
   "execution_count": 16,
   "id": "bb55be38",
   "metadata": {},
   "outputs": [
    {
     "data": {
      "text/plain": [
       "0    1\n",
       "1    1\n",
       "2    0\n",
       "3    0\n",
       "4    0\n",
       "dtype: int64"
      ]
     },
     "execution_count": 16,
     "metadata": {},
     "output_type": "execute_result"
    }
   ],
   "source": [
    "#counting number of time a character occurs\n",
    "\n",
    "names.str.count('r')"
   ]
  },
  {
   "cell_type": "code",
   "execution_count": 18,
   "id": "0ff5b568",
   "metadata": {},
   "outputs": [
    {
     "data": {
      "text/plain": [
       "0    False\n",
       "1    False\n",
       "2    False\n",
       "3    False\n",
       "4     True\n",
       "dtype: bool"
      ]
     },
     "execution_count": 18,
     "metadata": {},
     "output_type": "execute_result"
    }
   ],
   "source": [
    "#checking if data is a digit\n",
    "names.str.isdigit()"
   ]
  },
  {
   "cell_type": "code",
   "execution_count": 19,
   "id": "273dacf3",
   "metadata": {},
   "outputs": [
    {
     "data": {
      "text/plain": [
       "4    5\n",
       "dtype: object"
      ]
     },
     "execution_count": 19,
     "metadata": {},
     "output_type": "execute_result"
    }
   ],
   "source": [
    "#printing only rows where data is a digit\n",
    "names[names.str.isdigit()]"
   ]
  },
  {
   "cell_type": "markdown",
   "id": "fb1d4463",
   "metadata": {},
   "source": [
    "### Splitting, grabbing and expanding series into a dataframe"
   ]
  },
  {
   "cell_type": "code",
   "execution_count": 25,
   "id": "31ba5d67",
   "metadata": {},
   "outputs": [],
   "source": [
    "tech_finance = ['GOOG,APPL,AMZN','JPM,BAC,GS']"
   ]
  },
  {
   "cell_type": "code",
   "execution_count": 26,
   "id": "7fe5764f",
   "metadata": {},
   "outputs": [
    {
     "data": {
      "text/plain": [
       "0    GOOG,APPL,AMZN\n",
       "1        JPM,BAC,GS\n",
       "dtype: object"
      ]
     },
     "execution_count": 26,
     "metadata": {},
     "output_type": "execute_result"
    }
   ],
   "source": [
    "tickers = pd.Series(tech_finance)\n",
    "tickers"
   ]
  },
  {
   "cell_type": "code",
   "execution_count": 29,
   "id": "357787a6",
   "metadata": {},
   "outputs": [
    {
     "data": {
      "text/plain": [
       "0    [GOOG, APPL, AMZN]\n",
       "1        [JPM, BAC, GS]\n",
       "dtype: object"
      ]
     },
     "execution_count": 29,
     "metadata": {},
     "output_type": "execute_result"
    }
   ],
   "source": [
    "# SPLITTING\n",
    "\n",
    "tickers.str.split(',')"
   ]
  },
  {
   "cell_type": "code",
   "execution_count": 30,
   "id": "a037538c",
   "metadata": {},
   "outputs": [
    {
     "data": {
      "text/plain": [
       "['GOOG', 'APPL', 'AMZN']"
      ]
     },
     "execution_count": 30,
     "metadata": {},
     "output_type": "execute_result"
    }
   ],
   "source": [
    "# GRABBING first row from this split dataframe\n",
    "tickers.str.split(',')[0]"
   ]
  },
  {
   "cell_type": "code",
   "execution_count": 31,
   "id": "3a59127a",
   "metadata": {},
   "outputs": [
    {
     "data": {
      "text/plain": [
       "0    GOOG\n",
       "1     JPM\n",
       "dtype: object"
      ]
     },
     "execution_count": 31,
     "metadata": {},
     "output_type": "execute_result"
    }
   ],
   "source": [
    "# grabbing first item from each row from the split dataframe\n",
    "tickers.str.split(',').str[0]"
   ]
  },
  {
   "cell_type": "code",
   "execution_count": 34,
   "id": "bf279839",
   "metadata": {},
   "outputs": [
    {
     "data": {
      "text/html": [
       "<div>\n",
       "<style scoped>\n",
       "    .dataframe tbody tr th:only-of-type {\n",
       "        vertical-align: middle;\n",
       "    }\n",
       "\n",
       "    .dataframe tbody tr th {\n",
       "        vertical-align: top;\n",
       "    }\n",
       "\n",
       "    .dataframe thead th {\n",
       "        text-align: right;\n",
       "    }\n",
       "</style>\n",
       "<table border=\"1\" class=\"dataframe\">\n",
       "  <thead>\n",
       "    <tr style=\"text-align: right;\">\n",
       "      <th></th>\n",
       "      <th>0</th>\n",
       "      <th>1</th>\n",
       "      <th>2</th>\n",
       "    </tr>\n",
       "  </thead>\n",
       "  <tbody>\n",
       "    <tr>\n",
       "      <th>0</th>\n",
       "      <td>GOOG</td>\n",
       "      <td>APPL</td>\n",
       "      <td>AMZN</td>\n",
       "    </tr>\n",
       "    <tr>\n",
       "      <th>1</th>\n",
       "      <td>JPM</td>\n",
       "      <td>BAC</td>\n",
       "      <td>GS</td>\n",
       "    </tr>\n",
       "  </tbody>\n",
       "</table>\n",
       "</div>"
      ],
      "text/plain": [
       "      0     1     2\n",
       "0  GOOG  APPL  AMZN\n",
       "1   JPM   BAC    GS"
      ]
     },
     "execution_count": 34,
     "metadata": {},
     "output_type": "execute_result"
    }
   ],
   "source": [
    "# expanding the split data into a datframe by making seperate columns\n",
    "df = tickers.str.split(',',expand=True)\n",
    "df"
   ]
  },
  {
   "cell_type": "code",
   "execution_count": 35,
   "id": "9933db5b",
   "metadata": {},
   "outputs": [
    {
     "name": "stdout",
     "output_type": "stream",
     "text": [
      "<class 'pandas.core.frame.DataFrame'>\n",
      "RangeIndex: 2 entries, 0 to 1\n",
      "Data columns (total 3 columns):\n",
      " #   Column  Non-Null Count  Dtype \n",
      "---  ------  --------------  ----- \n",
      " 0   0       2 non-null      object\n",
      " 1   1       2 non-null      object\n",
      " 2   2       2 non-null      object\n",
      "dtypes: object(3)\n",
      "memory usage: 176.0+ bytes\n"
     ]
    }
   ],
   "source": [
    "# checking if the table above is a pandas dataframe\n",
    "df.info()"
   ]
  },
  {
   "cell_type": "markdown",
   "id": "faf7e799",
   "metadata": {},
   "source": [
    "### Basic text cleaning by stacking str methods"
   ]
  },
  {
   "cell_type": "code",
   "execution_count": 98,
   "id": "09e436d7",
   "metadata": {},
   "outputs": [
    {
     "data": {
      "text/plain": [
       "0      andrew  \n",
       "1       rit;ika\n",
       "2      claire  \n",
       "dtype: object"
      ]
     },
     "execution_count": 98,
     "metadata": {},
     "output_type": "execute_result"
    }
   ],
   "source": [
    "messy_names = pd.Series(['andrew  ' , 'rit;ika' , '  claire  '])\n",
    "messy_names"
   ]
  },
  {
   "cell_type": "code",
   "execution_count": 99,
   "id": "56cc0c99",
   "metadata": {},
   "outputs": [
    {
     "data": {
      "text/plain": [
       "0      andrew  \n",
       "1        ritika\n",
       "2      claire  \n",
       "dtype: object"
      ]
     },
     "execution_count": 99,
     "metadata": {},
     "output_type": "execute_result"
    }
   ],
   "source": [
    "#replacing semicolon\n",
    "messy_names_new = messy_names.str.replace(';','')\n",
    "messy_names_new"
   ]
  },
  {
   "cell_type": "code",
   "execution_count": 100,
   "id": "b85a61ed",
   "metadata": {},
   "outputs": [
    {
     "data": {
      "text/plain": [
       "0    andrew\n",
       "1    ritika\n",
       "2    claire\n",
       "dtype: object"
      ]
     },
     "execution_count": 100,
     "metadata": {},
     "output_type": "execute_result"
    }
   ],
   "source": [
    "#strpping the white spaces\n",
    "messy_names_new.str.strip()"
   ]
  },
  {
   "cell_type": "code",
   "execution_count": 101,
   "id": "f1d9119f",
   "metadata": {},
   "outputs": [
    {
     "data": {
      "text/plain": [
       "0    andrew\n",
       "1    ritika\n",
       "2    claire\n",
       "dtype: object"
      ]
     },
     "execution_count": 101,
     "metadata": {},
     "output_type": "execute_result"
    }
   ],
   "source": [
    "#above output in a single line\n",
    "\n",
    "messy_names.str.replace(';','').str.strip()"
   ]
  },
  {
   "cell_type": "code",
   "execution_count": 105,
   "id": "f24c692b",
   "metadata": {},
   "outputs": [
    {
     "data": {
      "text/plain": [
       "0    Andrew\n",
       "1    Ritika\n",
       "2    Claire\n",
       "dtype: object"
      ]
     },
     "execution_count": 105,
     "metadata": {},
     "output_type": "execute_result"
    }
   ],
   "source": [
    "# CLEANING AND CAPITALIZING IN A SINGLE COMMAND\n",
    "\n",
    "messy_names.str.replace(';','').str.strip().str.capitalize()"
   ]
  },
  {
   "cell_type": "code",
   "execution_count": 106,
   "id": "d2303005",
   "metadata": {},
   "outputs": [
    {
     "data": {
      "text/plain": [
       "0    Andrew\n",
       "1    Ritika\n",
       "2    Claire\n",
       "dtype: object"
      ]
     },
     "execution_count": 106,
     "metadata": {},
     "output_type": "execute_result"
    }
   ],
   "source": [
    "# USING apply() method for the ABOVE LENGTHY CODE\n",
    "# CLEANING AND CAPITALIZING DATA USING APPLY() METHOD\n",
    "\n",
    "# NOTE: we do not need to write .str while using apply() because \n",
    "# apply() is a method for pandas dataframes which works row wise by default\n",
    "\n",
    "def cleanup(name):\n",
    "    name = name.replace(';','')\n",
    "    name = name.strip()\n",
    "    name = name.capitalize()\n",
    "    return name\n",
    "\n",
    "messy_names.apply(cleanup)"
   ]
  },
  {
   "cell_type": "code",
   "execution_count": 108,
   "id": "e57f6a3a",
   "metadata": {},
   "outputs": [],
   "source": [
    "# NOTE:\n",
    "# vectorize() is the fastest method\n",
    "# apply() is the next fast method\n",
    "# string methods are the slowest"
   ]
  },
  {
   "cell_type": "code",
   "execution_count": null,
   "id": "c4afe878",
   "metadata": {},
   "outputs": [],
   "source": []
  }
 ],
 "metadata": {
  "kernelspec": {
   "display_name": "Python 3 (ipykernel)",
   "language": "python",
   "name": "python3"
  },
  "language_info": {
   "codemirror_mode": {
    "name": "ipython",
    "version": 3
   },
   "file_extension": ".py",
   "mimetype": "text/x-python",
   "name": "python",
   "nbconvert_exporter": "python",
   "pygments_lexer": "ipython3",
   "version": "3.10.9"
  }
 },
 "nbformat": 4,
 "nbformat_minor": 5
}
